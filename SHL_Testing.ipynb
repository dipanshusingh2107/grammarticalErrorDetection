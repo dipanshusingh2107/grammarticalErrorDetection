{
 "cells": [
  {
   "cell_type": "code",
   "execution_count": 1,
   "id": "eef35a88",
   "metadata": {},
   "outputs": [],
   "source": [
    "import pandas as pd\n",
    "import numpy as np\n",
    "from keras.models import load_model\n",
    "from sklearn.metrics import classification_report , accuracy_score\n",
    "import pickle"
   ]
  },
  {
   "cell_type": "code",
   "execution_count": 2,
   "id": "5a4fd6f3",
   "metadata": {},
   "outputs": [],
   "source": [
    "testdf = pd.read_csv('test_data.csv')"
   ]
  },
  {
   "cell_type": "code",
   "execution_count": 3,
   "id": "84359587",
   "metadata": {},
   "outputs": [],
   "source": [
    "x_test_text = []\n",
    "for sentence in testdf['input']:\n",
    "    x_test_text.append(sentence.split())"
   ]
  },
  {
   "cell_type": "code",
   "execution_count": 4,
   "id": "f9067cc0",
   "metadata": {},
   "outputs": [],
   "source": [
    "file = open('tokenizer.p' , 'rb')\n",
    "tokenizer = pickle.load(file)"
   ]
  },
  {
   "cell_type": "code",
   "execution_count": 5,
   "id": "ddf8e39a",
   "metadata": {},
   "outputs": [
    {
     "name": "stdout",
     "output_type": "stream",
     "text": [
      "841\n",
      "(9972, 400, 1)\n"
     ]
    }
   ],
   "source": [
    "x_test = [] \n",
    "maxlen = 0 \n",
    "for sentence in x_test_text: \n",
    "    maxlen = max(maxlen , len(sentence)) \n",
    "    l = tokenizer.texts_to_sequences(sentence)\n",
    "    while len(l) >=400:\n",
    "        l.pop()\n",
    "        \n",
    "    while len(l) < 400: \n",
    "        l.append([0])\n",
    "    for i in range(0,len(l)):\n",
    "        if(l[i]==[]):\n",
    "            l[i] = [0]\n",
    "    x_test.append(l)\n",
    "    \n",
    "print(maxlen)\n",
    "x_test = np.array(x_test) \n",
    "print(x_test.shape)"
   ]
  },
  {
   "cell_type": "code",
   "execution_count": 6,
   "id": "dbe7ff5e",
   "metadata": {},
   "outputs": [
    {
     "name": "stderr",
     "output_type": "stream",
     "text": [
      "2022-04-08 08:15:16.570534: I tensorflow/core/platform/cpu_feature_guard.cc:151] This TensorFlow binary is optimized with oneAPI Deep Neural Network Library (oneDNN) to use the following CPU instructions in performance-critical operations:  AVX2 FMA\n",
      "To enable them in other operations, rebuild TensorFlow with the appropriate compiler flags.\n"
     ]
    }
   ],
   "source": [
    "model = load_model('SHL_Model/')\n",
    "y_test_pred_cont = model.predict(x_test)\n",
    "y_test_pred = [0 if i <0.5 else 1 for i in y_test_pred_cont] "
   ]
  },
  {
   "cell_type": "code",
   "execution_count": 7,
   "id": "d6684466",
   "metadata": {},
   "outputs": [],
   "source": [
    "answer = {'input':testdf['input'],'labels':y_test_pred}\n",
    "df_submit = pd.DataFrame(answer)\n",
    "df_submit.to_csv('sushant_kumar_submission.csv',header=True, index=False)"
   ]
  }
 ],
 "metadata": {
  "kernelspec": {
   "display_name": "Python 3 (ipykernel)",
   "language": "python",
   "name": "python3"
  },
  "language_info": {
   "codemirror_mode": {
    "name": "ipython",
    "version": 3
   },
   "file_extension": ".py",
   "mimetype": "text/x-python",
   "name": "python",
   "nbconvert_exporter": "python",
   "pygments_lexer": "ipython3",
   "version": "3.9.10"
  }
 },
 "nbformat": 4,
 "nbformat_minor": 5
}
